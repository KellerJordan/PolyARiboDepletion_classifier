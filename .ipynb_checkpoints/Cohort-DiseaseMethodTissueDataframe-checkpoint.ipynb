{
 "cells": [
  {
   "cell_type": "code",
   "execution_count": 193,
   "metadata": {
    "collapsed": true,
    "deletable": true,
    "editable": true
   },
   "outputs": [],
   "source": [
    "import os, fnmatch\n",
    "import matplotlib.pyplot as plt\n",
    "import csv\n",
    "import numpy as np\n",
    "import pandas as pd\n",
    "import sys\n",
    "import json\n",
    "import glob\n"
   ]
  },
  {
   "cell_type": "markdown",
   "metadata": {
    "deletable": true,
    "editable": true
   },
   "source": [
    "# Labels\n",
    "Sources:\n",
    "- clinical.tsv\n",
    "- riboDepleted_samples_that_passedQC_and_have_known_diagnosis\n",
    "- TranscriptMethod_THPEDv1"
   ]
  },
  {
   "cell_type": "markdown",
   "metadata": {
    "deletable": true,
    "editable": true
   },
   "source": [
    "# Features\n",
    "Sources:\n",
    "- /data/archive/compendium/v5/v5_hugo_log2tpm.11340x58581.2018-02-03.hd5\n",
    "- /data/archive/downstream/*  [all sampleids possible]\n",
    "    - /secondary/ucsc_cgl-rnaseq-cgl-pipeline-0.0.0-0000000/RSEM/Hugo/\n",
    "        - rsem_genes.hugo.results"
   ]
  },
  {
   "cell_type": "markdown",
   "metadata": {
    "deletable": true,
    "editable": true
   },
   "source": [
    "# Gather Features\n",
    "1. read in compendium (log2(TPM+1))\n",
    "2. find more in downstream source (TPM) \n",
    "3. merge the two using the same gene name both in log2(TPM+1)"
   ]
  },
  {
   "cell_type": "code",
   "execution_count": 7,
   "metadata": {
    "collapsed": true,
    "deletable": true,
    "editable": true
   },
   "outputs": [],
   "source": [
    "compendium = pd.read_hdf(\"/data/archive/compendium/v5/v5_hugo_log2tpm.11340x58581.2018-02-03.hd5\")"
   ]
  },
  {
   "cell_type": "code",
   "execution_count": 144,
   "metadata": {
    "collapsed": false,
    "deletable": true,
    "editable": true
   },
   "outputs": [],
   "source": [
    "basepath=\"/data/archive/downstream/\"\n",
    "postidpath=\"/secondary/ucsc_cgl-rnaseq-cgl-pipeline-0.0.0-0000000/RSEM/Hugo/\"\n",
    "filename=\"rsem_genes.hugo.results\"\n",
    "hugoLogTpmPlusOneFilePathList = glob.glob(basepath + \"*\" + postidpath + filename)\n",
    "\n",
    "rawTPMExpression = pd.DataFrame()\n",
    "for filepath in hugoLogTpmPlusOneFilePathList:\n",
    "    curDf = pd.read_csv(filepath,sep='\\t')\n",
    "    rawTPMExpression[filepath[25:].partition('/')[0]]=curDf['TPM']\n"
   ]
  },
  {
   "cell_type": "code",
   "execution_count": 175,
   "metadata": {
    "collapsed": false,
    "deletable": true,
    "editable": true
   },
   "outputs": [
    {
     "name": "stdout",
     "output_type": "stream",
     "text": [
      "<class 'pandas.core.frame.DataFrame'>\n",
      "Index: 58581 entries, 5S_rRNA to yR211F11.2\n",
      "Columns: 11340 entries, THR15_0330_S01 to TCGA-DD-A115-01\n",
      "dtypes: float32(11340)\n",
      "memory usage: 2.5+ GB\n"
     ]
    }
   ],
   "source": [
    "compendium.info()"
   ]
  },
  {
   "cell_type": "markdown",
   "metadata": {
    "deletable": true,
    "editable": true
   },
   "source": [
    "### Multiple Ensemble IDs match to one HUGO gene name"
   ]
  },
  {
   "cell_type": "code",
   "execution_count": 181,
   "metadata": {
    "collapsed": false,
    "deletable": true,
    "editable": true
   },
   "outputs": [],
   "source": [
    "rawTPMExpression['gene_id'] = curDf['gene_name']\n"
   ]
  },
  {
   "cell_type": "code",
   "execution_count": 185,
   "metadata": {
    "collapsed": false,
    "deletable": true,
    "editable": true
   },
   "outputs": [],
   "source": [
    "rawTPMExpression.index = list(rawTPMExpression['gene_id'])\n"
   ]
  },
  {
   "cell_type": "code",
   "execution_count": 177,
   "metadata": {
    "collapsed": false,
    "deletable": true,
    "editable": true
   },
   "outputs": [
    {
     "name": "stdout",
     "output_type": "stream",
     "text": [
      "<class 'pandas.core.frame.DataFrame'>\n",
      "RangeIndex: 60448 entries, 0 to 60447\n",
      "Columns: 816 entries, TH03_0159_S01 to TH03_0118_S01\n",
      "dtypes: float64(816)\n",
      "memory usage: 376.3 MB\n"
     ]
    }
   ],
   "source": [
    "rawTPMExpression.info()"
   ]
  },
  {
   "cell_type": "markdown",
   "metadata": {
    "deletable": true,
    "editable": true
   },
   "source": [
    "### Remove repeat genes and apply +1 and log2 to rawTPM"
   ]
  },
  {
   "cell_type": "code",
   "execution_count": 229,
   "metadata": {
    "collapsed": false,
    "deletable": true,
    "editable": true
   },
   "outputs": [
    {
     "name": "stdout",
     "output_type": "stream",
     "text": [
      "CPU times: user 6.22 s, sys: 5.02 s, total: 11.2 s\n",
      "Wall time: 10.3 s\n"
     ]
    }
   ],
   "source": [
    "%%time\n",
    "rawTPMExpressionShorter=rawTPMExpression.groupby(level=0).agg('mean').add(1).apply(np.log2)\n",
    "# rawTPMExpressionShorter.info()\n",
    "# <class 'pandas.core.frame.DataFrame'>\n",
    "# Index: 58581 entries, 5S_rRNA to yR211F11.2\n",
    "# Columns: 816 entries, TH03_0159_S01 to TH03_0118_S01\n",
    "# dtypes: float64(816)\n",
    "# memory usage: 365.1+ MB\n",
    "\n",
    "# compendium.info()\n",
    "# <class 'pandas.core.frame.DataFrame'>\n",
    "# Index: 58581 entries, 5S_rRNA to yR211F11.2\n",
    "# Columns: 11340 entries, THR15_0330_S01 to TCGA-DD-A115-01\n",
    "# dtypes: float32(11340)\n",
    "# memory usage: 2.5+ GB"
   ]
  },
  {
   "cell_type": "markdown",
   "metadata": {
    "deletable": true,
    "editable": true
   },
   "source": [
    "### Merge compendium with downstream data"
   ]
  },
  {
   "cell_type": "code",
   "execution_count": null,
   "metadata": {
    "collapsed": true
   },
   "outputs": [],
   "source": []
  },
  {
   "cell_type": "code",
   "execution_count": 235,
   "metadata": {
    "collapsed": false
   },
   "outputs": [
    {
     "data": {
      "text/plain": [
       "283"
      ]
     },
     "execution_count": 235,
     "metadata": {},
     "output_type": "execute_result"
    }
   ],
   "source": [
    "cols_to_use = rawTPMExpressionShorter.columns.difference(compendium.columns)\n",
    "len(cols_to_use.tolist())\n",
    "cols_to_use"
   ]
  },
  {
   "cell_type": "code",
   "execution_count": 237,
   "metadata": {
    "collapsed": false,
    "deletable": true,
    "editable": true
   },
   "outputs": [
    {
     "name": "stdout",
     "output_type": "stream",
     "text": [
      "CPU times: user 1min 4s, sys: 30.3 s, total: 1min 34s\n",
      "Wall time: 1min 34s\n"
     ]
    }
   ],
   "source": [
    "%%time\n",
    "expressionTpmCompendium = pd.merge(rawTPMExpressionShorter[list(cols_to_use)], compendium, left_index = True, right_index = True)"
   ]
  },
  {
   "cell_type": "code",
   "execution_count": 238,
   "metadata": {
    "collapsed": false,
    "deletable": true,
    "editable": true
   },
   "outputs": [
    {
     "data": {
      "text/html": [
       "<div>\n",
       "<table border=\"1\" class=\"dataframe\">\n",
       "  <thead>\n",
       "    <tr style=\"text-align: right;\">\n",
       "      <th></th>\n",
       "      <th>TARGET-40-0A4HLD-01A-01R</th>\n",
       "      <th>TARGET-40-PAKUZU-01A-01R</th>\n",
       "      <th>TARGET-40-PAKXLD-01A-01R</th>\n",
       "      <th>TARGET-40-PALFYN-01A-01R</th>\n",
       "      <th>TARGET-40-PAMEKS-01A-01R</th>\n",
       "      <th>TARGET-40-PAPNVD-01A-01R</th>\n",
       "      <th>TARGET-40-PAPWWC-01A-01R</th>\n",
       "      <th>TARGET-40-PASKZZ-01A-01R</th>\n",
       "      <th>TARGET-40-PAUVUL-01A-01R</th>\n",
       "      <th>TARGET-40-PAUXPZ-01A-01R</th>\n",
       "      <th>...</th>\n",
       "      <th>TCGA-18-3414-01</th>\n",
       "      <th>TCGA-13-1481-01</th>\n",
       "      <th>TCGA-BP-4803-01</th>\n",
       "      <th>TCGA-A8-A09K-01</th>\n",
       "      <th>TCGA-61-1907-01</th>\n",
       "      <th>TCGA-IB-7885-01</th>\n",
       "      <th>TCGA-95-7947-01</th>\n",
       "      <th>TCGA-VQ-AA6F-01</th>\n",
       "      <th>TCGA-BR-8588-01</th>\n",
       "      <th>TCGA-DD-A115-01</th>\n",
       "    </tr>\n",
       "  </thead>\n",
       "  <tbody>\n",
       "    <tr>\n",
       "      <th>5S_rRNA</th>\n",
       "      <td>0.000000</td>\n",
       "      <td>0.000000</td>\n",
       "      <td>0.000000</td>\n",
       "      <td>0.000000</td>\n",
       "      <td>0.000000</td>\n",
       "      <td>0.000000</td>\n",
       "      <td>0.000000</td>\n",
       "      <td>0.000000</td>\n",
       "      <td>0.000000</td>\n",
       "      <td>0.000000</td>\n",
       "      <td>...</td>\n",
       "      <td>0.000000</td>\n",
       "      <td>0.000000</td>\n",
       "      <td>0.000000</td>\n",
       "      <td>0.000000</td>\n",
       "      <td>0.000000</td>\n",
       "      <td>0.000000</td>\n",
       "      <td>0.000000</td>\n",
       "      <td>0.000000</td>\n",
       "      <td>0.000000</td>\n",
       "      <td>0.000000</td>\n",
       "    </tr>\n",
       "    <tr>\n",
       "      <th>5_8S_rRNA</th>\n",
       "      <td>0.000000</td>\n",
       "      <td>0.000000</td>\n",
       "      <td>0.000000</td>\n",
       "      <td>0.000000</td>\n",
       "      <td>0.000000</td>\n",
       "      <td>0.000000</td>\n",
       "      <td>0.000000</td>\n",
       "      <td>0.000000</td>\n",
       "      <td>0.000000</td>\n",
       "      <td>0.000000</td>\n",
       "      <td>...</td>\n",
       "      <td>0.000000</td>\n",
       "      <td>0.000000</td>\n",
       "      <td>0.000000</td>\n",
       "      <td>0.000000</td>\n",
       "      <td>0.000000</td>\n",
       "      <td>0.000000</td>\n",
       "      <td>0.000000</td>\n",
       "      <td>0.000000</td>\n",
       "      <td>0.000000</td>\n",
       "      <td>0.000000</td>\n",
       "    </tr>\n",
       "    <tr>\n",
       "      <th>7SK</th>\n",
       "      <td>0.000000</td>\n",
       "      <td>0.000000</td>\n",
       "      <td>0.000000</td>\n",
       "      <td>0.135316</td>\n",
       "      <td>0.000000</td>\n",
       "      <td>0.000000</td>\n",
       "      <td>0.000000</td>\n",
       "      <td>0.000000</td>\n",
       "      <td>0.000000</td>\n",
       "      <td>0.000000</td>\n",
       "      <td>...</td>\n",
       "      <td>0.000000</td>\n",
       "      <td>0.021551</td>\n",
       "      <td>0.000000</td>\n",
       "      <td>0.000000</td>\n",
       "      <td>0.000000</td>\n",
       "      <td>0.038016</td>\n",
       "      <td>0.042669</td>\n",
       "      <td>0.016758</td>\n",
       "      <td>0.000000</td>\n",
       "      <td>0.000000</td>\n",
       "    </tr>\n",
       "    <tr>\n",
       "      <th>A1BG</th>\n",
       "      <td>5.782671</td>\n",
       "      <td>6.661778</td>\n",
       "      <td>4.725741</td>\n",
       "      <td>2.641546</td>\n",
       "      <td>4.685940</td>\n",
       "      <td>4.319762</td>\n",
       "      <td>5.801159</td>\n",
       "      <td>1.304511</td>\n",
       "      <td>3.534809</td>\n",
       "      <td>5.135863</td>\n",
       "      <td>...</td>\n",
       "      <td>3.323396</td>\n",
       "      <td>4.452866</td>\n",
       "      <td>2.424979</td>\n",
       "      <td>4.679187</td>\n",
       "      <td>5.000447</td>\n",
       "      <td>3.129315</td>\n",
       "      <td>2.666772</td>\n",
       "      <td>1.526119</td>\n",
       "      <td>1.646188</td>\n",
       "      <td>9.799418</td>\n",
       "    </tr>\n",
       "    <tr>\n",
       "      <th>A1BG-AS1</th>\n",
       "      <td>1.104337</td>\n",
       "      <td>2.693766</td>\n",
       "      <td>2.827819</td>\n",
       "      <td>0.978196</td>\n",
       "      <td>2.835924</td>\n",
       "      <td>2.548437</td>\n",
       "      <td>3.824768</td>\n",
       "      <td>0.941106</td>\n",
       "      <td>0.250962</td>\n",
       "      <td>0.713696</td>\n",
       "      <td>...</td>\n",
       "      <td>1.014435</td>\n",
       "      <td>1.682619</td>\n",
       "      <td>1.070450</td>\n",
       "      <td>3.106042</td>\n",
       "      <td>1.659971</td>\n",
       "      <td>1.310415</td>\n",
       "      <td>1.400608</td>\n",
       "      <td>0.739941</td>\n",
       "      <td>0.918464</td>\n",
       "      <td>0.739941</td>\n",
       "    </tr>\n",
       "  </tbody>\n",
       "</table>\n",
       "<p>5 rows × 11623 columns</p>\n",
       "</div>"
      ],
      "text/plain": [
       "           TARGET-40-0A4HLD-01A-01R  TARGET-40-PAKUZU-01A-01R  \\\n",
       "5S_rRNA                    0.000000                  0.000000   \n",
       "5_8S_rRNA                  0.000000                  0.000000   \n",
       "7SK                        0.000000                  0.000000   \n",
       "A1BG                       5.782671                  6.661778   \n",
       "A1BG-AS1                   1.104337                  2.693766   \n",
       "\n",
       "           TARGET-40-PAKXLD-01A-01R  TARGET-40-PALFYN-01A-01R  \\\n",
       "5S_rRNA                    0.000000                  0.000000   \n",
       "5_8S_rRNA                  0.000000                  0.000000   \n",
       "7SK                        0.000000                  0.135316   \n",
       "A1BG                       4.725741                  2.641546   \n",
       "A1BG-AS1                   2.827819                  0.978196   \n",
       "\n",
       "           TARGET-40-PAMEKS-01A-01R  TARGET-40-PAPNVD-01A-01R  \\\n",
       "5S_rRNA                    0.000000                  0.000000   \n",
       "5_8S_rRNA                  0.000000                  0.000000   \n",
       "7SK                        0.000000                  0.000000   \n",
       "A1BG                       4.685940                  4.319762   \n",
       "A1BG-AS1                   2.835924                  2.548437   \n",
       "\n",
       "           TARGET-40-PAPWWC-01A-01R  TARGET-40-PASKZZ-01A-01R  \\\n",
       "5S_rRNA                    0.000000                  0.000000   \n",
       "5_8S_rRNA                  0.000000                  0.000000   \n",
       "7SK                        0.000000                  0.000000   \n",
       "A1BG                       5.801159                  1.304511   \n",
       "A1BG-AS1                   3.824768                  0.941106   \n",
       "\n",
       "           TARGET-40-PAUVUL-01A-01R  TARGET-40-PAUXPZ-01A-01R  \\\n",
       "5S_rRNA                    0.000000                  0.000000   \n",
       "5_8S_rRNA                  0.000000                  0.000000   \n",
       "7SK                        0.000000                  0.000000   \n",
       "A1BG                       3.534809                  5.135863   \n",
       "A1BG-AS1                   0.250962                  0.713696   \n",
       "\n",
       "                ...         TCGA-18-3414-01  TCGA-13-1481-01  TCGA-BP-4803-01  \\\n",
       "5S_rRNA         ...                0.000000         0.000000         0.000000   \n",
       "5_8S_rRNA       ...                0.000000         0.000000         0.000000   \n",
       "7SK             ...                0.000000         0.021551         0.000000   \n",
       "A1BG            ...                3.323396         4.452866         2.424979   \n",
       "A1BG-AS1        ...                1.014435         1.682619         1.070450   \n",
       "\n",
       "           TCGA-A8-A09K-01  TCGA-61-1907-01  TCGA-IB-7885-01  TCGA-95-7947-01  \\\n",
       "5S_rRNA           0.000000         0.000000         0.000000         0.000000   \n",
       "5_8S_rRNA         0.000000         0.000000         0.000000         0.000000   \n",
       "7SK               0.000000         0.000000         0.038016         0.042669   \n",
       "A1BG              4.679187         5.000447         3.129315         2.666772   \n",
       "A1BG-AS1          3.106042         1.659971         1.310415         1.400608   \n",
       "\n",
       "           TCGA-VQ-AA6F-01  TCGA-BR-8588-01  TCGA-DD-A115-01  \n",
       "5S_rRNA           0.000000         0.000000         0.000000  \n",
       "5_8S_rRNA         0.000000         0.000000         0.000000  \n",
       "7SK               0.016758         0.000000         0.000000  \n",
       "A1BG              1.526119         1.646188         9.799418  \n",
       "A1BG-AS1          0.739941         0.918464         0.739941  \n",
       "\n",
       "[5 rows x 11623 columns]"
      ]
     },
     "execution_count": 238,
     "metadata": {},
     "output_type": "execute_result"
    }
   ],
   "source": [
    "expressionTpmCompendium.head()"
   ]
  },
  {
   "cell_type": "markdown",
   "metadata": {
    "deletable": true,
    "editable": true
   },
   "source": [
    "# Gather Labels\n",
    "Sources:\n",
    "- read clinical.tsv (no riboD, so all polyA)\n",
    "- read riboDepleted_samples_that_passedQC_and_have_known_diagnosis (all riboD)\n",
    "- read TranscriptMethod_THPEDv1 (compendium both polyA and riboD)\n",
    "- merge all three and remove repeats"
   ]
  },
  {
   "cell_type": "code",
   "execution_count": 404,
   "metadata": {
    "collapsed": false,
    "deletable": true,
    "editable": true
   },
   "outputs": [],
   "source": [
    "clinicalLabels = pd.read_csv(\"/data/archive/compendium/v5/clinical.tsv\",sep='\\t')\n",
    "clinicalLabels['tr_method']='PolyA'\n",
    "ribodDiagnosis = pd.read_csv(\"riboDepleted_samples_that_passedQC_and_have_known_diagnosis.tsv\", sep='\\t')\n",
    "\n",
    "ribodDiagnosis=ribodDiagnosis.rename(columns={'Treehouse SAMPLE identifier':'th_sampleid','Diagnosis/Disease':'disease'})\n",
    "\n",
    "ribodDiagnosis['tr_method']='RiboMinus'\n",
    "methods = pd.read_csv(\"TranscriptMethod_THPEDv1.csv\")\n",
    "\n",
    "methods = methods.rename(columns={'Treehouse SAMPLE identifier':'th_sampleid','TR_method':'tr_method'})\n",
    "\n",
    "clinicalIdTissue = clinicalLabels[['th_sampleid','anat_sample','disease','tr_method']] \n",
    "df = pd.merge(clinicalIdTissue, ribodDiagnosis, how='outer')\n",
    "df = pd.merge(df,methods,how='outer')\n",
    "df = df[['th_sampleid','tr_method','disease']]\n",
    "# PolyA                11350\n",
    "# RiboMinus              179\n",
    "# suspect RiboMinus        9\n",
    "\n",
    "compendium_id_method_disease_labels = df.dropna()\n",
    "# PolyA        11340\n",
    "# RiboMinus      165"
   ]
  },
  {
   "cell_type": "code",
   "execution_count": 390,
   "metadata": {
    "collapsed": false
   },
   "outputs": [
    {
     "data": {
      "text/html": [
       "<div>\n",
       "<table border=\"1\" class=\"dataframe\">\n",
       "  <thead>\n",
       "    <tr style=\"text-align: right;\">\n",
       "      <th></th>\n",
       "      <th>th_sampleid</th>\n",
       "      <th>tr_method</th>\n",
       "      <th>disease</th>\n",
       "    </tr>\n",
       "  </thead>\n",
       "  <tbody>\n",
       "    <tr>\n",
       "      <th>0</th>\n",
       "      <td>TH03_0010_S01</td>\n",
       "      <td>PolyA</td>\n",
       "      <td>acute leukemia of ambiguous lineage</td>\n",
       "    </tr>\n",
       "    <tr>\n",
       "      <th>1</th>\n",
       "      <td>TH03_0010_S02</td>\n",
       "      <td>PolyA</td>\n",
       "      <td>acute leukemia of ambiguous lineage</td>\n",
       "    </tr>\n",
       "    <tr>\n",
       "      <th>2</th>\n",
       "      <td>TH03_0103_S01</td>\n",
       "      <td>PolyA</td>\n",
       "      <td>rhabdomyosarcoma</td>\n",
       "    </tr>\n",
       "    <tr>\n",
       "      <th>3</th>\n",
       "      <td>TH03_0104_S01</td>\n",
       "      <td>PolyA</td>\n",
       "      <td>hepatoblastoma</td>\n",
       "    </tr>\n",
       "    <tr>\n",
       "      <th>4</th>\n",
       "      <td>TH03_0105_S01</td>\n",
       "      <td>PolyA</td>\n",
       "      <td>rhabdomyosarcoma</td>\n",
       "    </tr>\n",
       "  </tbody>\n",
       "</table>\n",
       "</div>"
      ],
      "text/plain": [
       "     th_sampleid tr_method                              disease\n",
       "0  TH03_0010_S01     PolyA  acute leukemia of ambiguous lineage\n",
       "1  TH03_0010_S02     PolyA  acute leukemia of ambiguous lineage\n",
       "2  TH03_0103_S01     PolyA                     rhabdomyosarcoma\n",
       "3  TH03_0104_S01     PolyA                       hepatoblastoma\n",
       "4  TH03_0105_S01     PolyA                     rhabdomyosarcoma"
      ]
     },
     "execution_count": 390,
     "metadata": {},
     "output_type": "execute_result"
    }
   ],
   "source": [
    "compendium_id_method_disease_labels.head()"
   ]
  },
  {
   "cell_type": "markdown",
   "metadata": {},
   "source": [
    "# 11454 features intersect labels total\n",
    "- **160 features intersect labels that are RiboMinus**\n",
    "- 11340 features intersect labels that are PolyA"
   ]
  },
  {
   "cell_type": "code",
   "execution_count": 286,
   "metadata": {
    "collapsed": false
   },
   "outputs": [
    {
     "data": {
      "text/plain": [
       "11454"
      ]
     },
     "execution_count": 286,
     "metadata": {},
     "output_type": "execute_result"
    }
   ],
   "source": [
    "len(set(list(compendium_id_method_disease_labels['th_sampleid']))&set(expressionTpmCompendium.keys()))"
   ]
  },
  {
   "cell_type": "code",
   "execution_count": 292,
   "metadata": {
    "collapsed": false,
    "scrolled": true
   },
   "outputs": [
    {
     "data": {
      "text/plain": [
       "160"
      ]
     },
     "execution_count": 292,
     "metadata": {},
     "output_type": "execute_result"
    }
   ],
   "source": [
    "labelsRiboD=compendium_id_method_disease_labels[compendium_id_method_disease_labels['tr_method']=='RiboMinus']['th_sampleid']\n",
    "len(set(labelsRiboD)&set(expressionTpmCompendium.keys()))"
   ]
  },
  {
   "cell_type": "code",
   "execution_count": 293,
   "metadata": {
    "collapsed": false
   },
   "outputs": [
    {
     "data": {
      "text/plain": [
       "11340"
      ]
     },
     "execution_count": 293,
     "metadata": {},
     "output_type": "execute_result"
    }
   ],
   "source": [
    "labelsRiboD=compendium_id_method_disease_labels[compendium_id_method_disease_labels['tr_method']=='PolyA']['th_sampleid']\n",
    "len(set(labelsRiboD)&set(expressionTpmCompendium.keys()))"
   ]
  },
  {
   "cell_type": "markdown",
   "metadata": {},
   "source": [
    "# Make labels and features intersect ids"
   ]
  },
  {
   "cell_type": "code",
   "execution_count": 432,
   "metadata": {
    "collapsed": false
   },
   "outputs": [],
   "source": [
    "allColumns = set(compendium_id_method_disease_labels['th_sampleid'])|set(expressionTpmCompendium.keys())\n",
    "columnsNotInLabels = allColumns^set(compendium_id_method_disease_labels['th_sampleid'])\n",
    "columnsNotInFeatures = allColumns^set(expressionTpmCompendium.keys())\n",
    "allNonCompatibleColumns = columnsNotInFeatures^columnsNotInLabels\n",
    "allCompatibleColumns = allColumns-allNonCompatibleColumns"
   ]
  },
  {
   "cell_type": "code",
   "execution_count": 434,
   "metadata": {
    "collapsed": false
   },
   "outputs": [
    {
     "name": "stdout",
     "output_type": "stream",
     "text": [
      "<class 'pandas.core.frame.DataFrame'>\n",
      "Index: 58581 entries, 5S_rRNA to yR211F11.2\n",
      "Columns: 11454 entries, TCGA-KU-A6H7-06 to TCGA-F7-8298-01\n",
      "dtypes: float32(11340), float64(114)\n",
      "memory usage: 2.5+ GB\n"
     ]
    }
   ],
   "source": [
    "# expressionTpmCompendium is bigger 11623 ids\n",
    "# compendium_id_method_disease_labels.info() 11505 ids\n",
    "features = expressionTpmCompendium[list(allCompatibleColumns)]\n",
    "features.info()\n",
    "# should have 11454 columns\n",
    "# it does!\n",
    "\n",
    "# <class 'pandas.core.frame.DataFrame'>\n",
    "# Index: 58581 entries, 5S_rRNA to yR211F11.2\n",
    "# Columns: 11454 entries, TCGA-KU-A6H7-06 to TCGA-F7-8298-01\n",
    "# dtypes: float32(11340), float64(114)\n",
    "# memory usage: 2.5+ GB"
   ]
  },
  {
   "cell_type": "code",
   "execution_count": 446,
   "metadata": {
    "collapsed": false
   },
   "outputs": [
    {
     "name": "stdout",
     "output_type": "stream",
     "text": [
      "<class 'pandas.core.frame.DataFrame'>\n",
      "Index: 3 entries, th_sampleid to disease\n",
      "Columns: 11454 entries, TCGA-KU-A6H7-06 to TCGA-F7-8298-01\n",
      "dtypes: object(11454)\n",
      "memory usage: 268.5+ KB\n"
     ]
    }
   ],
   "source": [
    "compendium_id_method_disease_labels=compendium_id_method_disease_labels.drop_duplicates('th_sampleid')\n",
    "compendium_id_method_disease_labels.index = compendium_id_method_disease_labels['th_sampleid']\n",
    "transpose= compendium_id_method_disease_labels.T\n",
    "transpose[list(allCompatibleColumns)].info()"
   ]
  },
  {
   "cell_type": "code",
   "execution_count": 449,
   "metadata": {
    "collapsed": true
   },
   "outputs": [],
   "source": [
    "labels = transpose[list(allCompatibleColumns)]\n"
   ]
  },
  {
   "cell_type": "markdown",
   "metadata": {},
   "source": [
    "Test whether the sets have truely the same ids \n",
    "<br> (If both true then = proved)"
   ]
  },
  {
   "cell_type": "code",
   "execution_count": 470,
   "metadata": {
    "collapsed": false
   },
   "outputs": [
    {
     "name": "stdout",
     "output_type": "stream",
     "text": [
      "True\n",
      "True\n",
      "True\n",
      "True\n"
     ]
    }
   ],
   "source": [
    "print(set(features.keys())<=set(labels.keys()))\n",
    "print(set(features.keys())>=set(labels.keys()))\n",
    "# just to double check\n",
    "print(set(labels.keys())<=set(features.keys()))\n",
    "print(set(labels.keys())>=set(features.keys()))"
   ]
  },
  {
   "cell_type": "code",
   "execution_count": 460,
   "metadata": {
    "collapsed": false
   },
   "outputs": [],
   "source": [
    "labelsTall = labels.T[['tr_method','disease']]"
   ]
  },
  {
   "cell_type": "code",
   "execution_count": 465,
   "metadata": {
    "collapsed": false
   },
   "outputs": [
    {
     "data": {
      "text/html": [
       "<div>\n",
       "<table border=\"1\" class=\"dataframe\">\n",
       "  <thead>\n",
       "    <tr style=\"text-align: right;\">\n",
       "      <th></th>\n",
       "      <th>tr_method</th>\n",
       "      <th>disease</th>\n",
       "    </tr>\n",
       "    <tr>\n",
       "      <th>th_sampleid</th>\n",
       "      <th></th>\n",
       "      <th></th>\n",
       "    </tr>\n",
       "  </thead>\n",
       "  <tbody>\n",
       "    <tr>\n",
       "      <th>TCGA-KU-A6H7-06</th>\n",
       "      <td>PolyA</td>\n",
       "      <td>head &amp; neck squamous cell carcinoma</td>\n",
       "    </tr>\n",
       "    <tr>\n",
       "      <th>TCGA-A8-A086-01</th>\n",
       "      <td>PolyA</td>\n",
       "      <td>breast invasive carcinoma</td>\n",
       "    </tr>\n",
       "    <tr>\n",
       "      <th>TCGA-HT-7687-01</th>\n",
       "      <td>PolyA</td>\n",
       "      <td>glioma</td>\n",
       "    </tr>\n",
       "    <tr>\n",
       "      <th>TARGET-50-PAJMXF-01</th>\n",
       "      <td>PolyA</td>\n",
       "      <td>wilms tumor</td>\n",
       "    </tr>\n",
       "    <tr>\n",
       "      <th>TARGET-50-PAJMFY-01</th>\n",
       "      <td>PolyA</td>\n",
       "      <td>wilms tumor</td>\n",
       "    </tr>\n",
       "  </tbody>\n",
       "</table>\n",
       "</div>"
      ],
      "text/plain": [
       "                    tr_method                              disease\n",
       "th_sampleid                                                       \n",
       "TCGA-KU-A6H7-06         PolyA  head & neck squamous cell carcinoma\n",
       "TCGA-A8-A086-01         PolyA            breast invasive carcinoma\n",
       "TCGA-HT-7687-01         PolyA                               glioma\n",
       "TARGET-50-PAJMXF-01     PolyA                          wilms tumor\n",
       "TARGET-50-PAJMFY-01     PolyA                          wilms tumor"
      ]
     },
     "execution_count": 465,
     "metadata": {},
     "output_type": "execute_result"
    }
   ],
   "source": [
    "labelsTall.head()"
   ]
  },
  {
   "cell_type": "code",
   "execution_count": 463,
   "metadata": {
    "collapsed": false,
    "scrolled": true
   },
   "outputs": [
    {
     "data": {
      "text/html": [
       "<div>\n",
       "<table border=\"1\" class=\"dataframe\">\n",
       "  <thead>\n",
       "    <tr style=\"text-align: right;\">\n",
       "      <th></th>\n",
       "      <th>TCGA-KU-A6H7-06</th>\n",
       "      <th>TCGA-A8-A086-01</th>\n",
       "      <th>TCGA-HT-7687-01</th>\n",
       "      <th>TARGET-50-PAJMXF-01</th>\n",
       "      <th>TARGET-50-PAJMFY-01</th>\n",
       "      <th>TCGA-EJ-7327-01</th>\n",
       "      <th>TCGA-CW-6090-01</th>\n",
       "      <th>TCGA-55-A48Y-01</th>\n",
       "      <th>TCGA-2A-A8W3-01</th>\n",
       "      <th>TARGET-50-PAJLWT-01</th>\n",
       "      <th>...</th>\n",
       "      <th>TCGA-A2-A04U-01</th>\n",
       "      <th>TCGA-CV-5440-01</th>\n",
       "      <th>TCGA-AB-2935-03</th>\n",
       "      <th>TCGA-41-2572-01</th>\n",
       "      <th>TCGA-FY-A3I4-01</th>\n",
       "      <th>TCGA-A2-A0T5-01</th>\n",
       "      <th>TCGA-V4-A9EC-01</th>\n",
       "      <th>TCGA-AB-2837-03</th>\n",
       "      <th>TCGA-Q1-A5R1-01</th>\n",
       "      <th>TCGA-F7-8298-01</th>\n",
       "    </tr>\n",
       "  </thead>\n",
       "  <tbody>\n",
       "    <tr>\n",
       "      <th>5S_rRNA</th>\n",
       "      <td>0.000000</td>\n",
       "      <td>0.000000</td>\n",
       "      <td>0.000000</td>\n",
       "      <td>0.000000</td>\n",
       "      <td>0.000000</td>\n",
       "      <td>0.000000</td>\n",
       "      <td>0.000000</td>\n",
       "      <td>0.000000</td>\n",
       "      <td>0.000000</td>\n",
       "      <td>0.000000</td>\n",
       "      <td>...</td>\n",
       "      <td>0.000000</td>\n",
       "      <td>0.000000</td>\n",
       "      <td>0.000000</td>\n",
       "      <td>0.000000</td>\n",
       "      <td>0.000000</td>\n",
       "      <td>0.000000</td>\n",
       "      <td>0.000000</td>\n",
       "      <td>0.000000</td>\n",
       "      <td>0.000000</td>\n",
       "      <td>0.000000</td>\n",
       "    </tr>\n",
       "    <tr>\n",
       "      <th>5_8S_rRNA</th>\n",
       "      <td>0.000000</td>\n",
       "      <td>0.000000</td>\n",
       "      <td>0.000000</td>\n",
       "      <td>0.000000</td>\n",
       "      <td>0.000000</td>\n",
       "      <td>0.000000</td>\n",
       "      <td>0.000000</td>\n",
       "      <td>0.000000</td>\n",
       "      <td>0.000000</td>\n",
       "      <td>0.000000</td>\n",
       "      <td>...</td>\n",
       "      <td>0.000000</td>\n",
       "      <td>0.000000</td>\n",
       "      <td>0.000000</td>\n",
       "      <td>0.000000</td>\n",
       "      <td>0.000000</td>\n",
       "      <td>0.000000</td>\n",
       "      <td>0.000000</td>\n",
       "      <td>0.000000</td>\n",
       "      <td>0.000000</td>\n",
       "      <td>0.000000</td>\n",
       "    </tr>\n",
       "    <tr>\n",
       "      <th>7SK</th>\n",
       "      <td>0.000000</td>\n",
       "      <td>0.042716</td>\n",
       "      <td>0.000000</td>\n",
       "      <td>0.042691</td>\n",
       "      <td>0.000000</td>\n",
       "      <td>0.000000</td>\n",
       "      <td>0.000000</td>\n",
       "      <td>0.054294</td>\n",
       "      <td>0.130956</td>\n",
       "      <td>0.000000</td>\n",
       "      <td>...</td>\n",
       "      <td>0.000000</td>\n",
       "      <td>0.000000</td>\n",
       "      <td>0.292841</td>\n",
       "      <td>0.000000</td>\n",
       "      <td>0.000000</td>\n",
       "      <td>0.081814</td>\n",
       "      <td>0.000000</td>\n",
       "      <td>0.000000</td>\n",
       "      <td>0.000000</td>\n",
       "      <td>0.000000</td>\n",
       "    </tr>\n",
       "    <tr>\n",
       "      <th>A1BG</th>\n",
       "      <td>5.745814</td>\n",
       "      <td>5.325208</td>\n",
       "      <td>3.063519</td>\n",
       "      <td>3.644984</td>\n",
       "      <td>4.025913</td>\n",
       "      <td>2.080706</td>\n",
       "      <td>2.367375</td>\n",
       "      <td>2.952385</td>\n",
       "      <td>2.204799</td>\n",
       "      <td>1.157091</td>\n",
       "      <td>...</td>\n",
       "      <td>5.516047</td>\n",
       "      <td>2.563169</td>\n",
       "      <td>3.130909</td>\n",
       "      <td>6.587368</td>\n",
       "      <td>3.426323</td>\n",
       "      <td>4.061800</td>\n",
       "      <td>5.881460</td>\n",
       "      <td>3.132593</td>\n",
       "      <td>1.848061</td>\n",
       "      <td>2.620650</td>\n",
       "    </tr>\n",
       "    <tr>\n",
       "      <th>A1BG-AS1</th>\n",
       "      <td>2.430272</td>\n",
       "      <td>3.158674</td>\n",
       "      <td>1.286958</td>\n",
       "      <td>1.844018</td>\n",
       "      <td>2.127684</td>\n",
       "      <td>1.063598</td>\n",
       "      <td>1.655393</td>\n",
       "      <td>1.028655</td>\n",
       "      <td>0.604182</td>\n",
       "      <td>1.709316</td>\n",
       "      <td>...</td>\n",
       "      <td>1.863989</td>\n",
       "      <td>0.298782</td>\n",
       "      <td>2.739831</td>\n",
       "      <td>3.244872</td>\n",
       "      <td>1.632331</td>\n",
       "      <td>2.327753</td>\n",
       "      <td>1.974571</td>\n",
       "      <td>4.256269</td>\n",
       "      <td>0.879794</td>\n",
       "      <td>0.731261</td>\n",
       "    </tr>\n",
       "  </tbody>\n",
       "</table>\n",
       "<p>5 rows × 11454 columns</p>\n",
       "</div>"
      ],
      "text/plain": [
       "           TCGA-KU-A6H7-06  TCGA-A8-A086-01  TCGA-HT-7687-01  \\\n",
       "5S_rRNA           0.000000         0.000000         0.000000   \n",
       "5_8S_rRNA         0.000000         0.000000         0.000000   \n",
       "7SK               0.000000         0.042716         0.000000   \n",
       "A1BG              5.745814         5.325208         3.063519   \n",
       "A1BG-AS1          2.430272         3.158674         1.286958   \n",
       "\n",
       "           TARGET-50-PAJMXF-01  TARGET-50-PAJMFY-01  TCGA-EJ-7327-01  \\\n",
       "5S_rRNA               0.000000             0.000000         0.000000   \n",
       "5_8S_rRNA             0.000000             0.000000         0.000000   \n",
       "7SK                   0.042691             0.000000         0.000000   \n",
       "A1BG                  3.644984             4.025913         2.080706   \n",
       "A1BG-AS1              1.844018             2.127684         1.063598   \n",
       "\n",
       "           TCGA-CW-6090-01  TCGA-55-A48Y-01  TCGA-2A-A8W3-01  \\\n",
       "5S_rRNA           0.000000         0.000000         0.000000   \n",
       "5_8S_rRNA         0.000000         0.000000         0.000000   \n",
       "7SK               0.000000         0.054294         0.130956   \n",
       "A1BG              2.367375         2.952385         2.204799   \n",
       "A1BG-AS1          1.655393         1.028655         0.604182   \n",
       "\n",
       "           TARGET-50-PAJLWT-01       ...         TCGA-A2-A04U-01  \\\n",
       "5S_rRNA               0.000000       ...                0.000000   \n",
       "5_8S_rRNA             0.000000       ...                0.000000   \n",
       "7SK                   0.000000       ...                0.000000   \n",
       "A1BG                  1.157091       ...                5.516047   \n",
       "A1BG-AS1              1.709316       ...                1.863989   \n",
       "\n",
       "           TCGA-CV-5440-01  TCGA-AB-2935-03  TCGA-41-2572-01  TCGA-FY-A3I4-01  \\\n",
       "5S_rRNA           0.000000         0.000000         0.000000         0.000000   \n",
       "5_8S_rRNA         0.000000         0.000000         0.000000         0.000000   \n",
       "7SK               0.000000         0.292841         0.000000         0.000000   \n",
       "A1BG              2.563169         3.130909         6.587368         3.426323   \n",
       "A1BG-AS1          0.298782         2.739831         3.244872         1.632331   \n",
       "\n",
       "           TCGA-A2-A0T5-01  TCGA-V4-A9EC-01  TCGA-AB-2837-03  TCGA-Q1-A5R1-01  \\\n",
       "5S_rRNA           0.000000         0.000000         0.000000         0.000000   \n",
       "5_8S_rRNA         0.000000         0.000000         0.000000         0.000000   \n",
       "7SK               0.081814         0.000000         0.000000         0.000000   \n",
       "A1BG              4.061800         5.881460         3.132593         1.848061   \n",
       "A1BG-AS1          2.327753         1.974571         4.256269         0.879794   \n",
       "\n",
       "           TCGA-F7-8298-01  \n",
       "5S_rRNA           0.000000  \n",
       "5_8S_rRNA         0.000000  \n",
       "7SK               0.000000  \n",
       "A1BG              2.620650  \n",
       "A1BG-AS1          0.731261  \n",
       "\n",
       "[5 rows x 11454 columns]"
      ]
     },
     "execution_count": 463,
     "metadata": {},
     "output_type": "execute_result"
    }
   ],
   "source": [
    "features.head()"
   ]
  },
  {
   "cell_type": "markdown",
   "metadata": {},
   "source": [
    "# 114 RiboD samples with labels"
   ]
  },
  {
   "cell_type": "code",
   "execution_count": 468,
   "metadata": {
    "collapsed": false
   },
   "outputs": [
    {
     "name": "stdout",
     "output_type": "stream",
     "text": [
      "<class 'pandas.core.frame.DataFrame'>\n",
      "Index: 114 entries, TH01_0125_S01 to TH01_0135_S01\n",
      "Data columns (total 2 columns):\n",
      "tr_method    114 non-null object\n",
      "disease      114 non-null object\n",
      "dtypes: object(2)\n",
      "memory usage: 2.7+ KB\n"
     ]
    }
   ],
   "source": [
    "labelsTall[labelsTall.tr_method=='RiboMinus'].info()"
   ]
  },
  {
   "cell_type": "markdown",
   "metadata": {
    "collapsed": true,
    "deletable": true,
    "editable": true
   },
   "source": [
    "# Reference"
   ]
  },
  {
   "cell_type": "code",
   "execution_count": 216,
   "metadata": {
    "collapsed": true
   },
   "outputs": [],
   "source": [
    "df2 = pd.DataFrame(np.random.randint(low=0, high=10, size=(5, 5)),columns=['a', 'b', 'c', 'd', 'e'])\n",
    "df1 = pd.DataFrame(np.random.randint(low=10, high=20, size=(5, 5)),columns=['a', 'b', 'c', 'd', 'e'])"
   ]
  },
  {
   "cell_type": "code",
   "execution_count": 228,
   "metadata": {
    "collapsed": false
   },
   "outputs": [
    {
     "data": {
      "text/html": [
       "<div>\n",
       "<table border=\"1\" class=\"dataframe\">\n",
       "  <thead>\n",
       "    <tr style=\"text-align: right;\">\n",
       "      <th></th>\n",
       "      <th>a</th>\n",
       "      <th>b</th>\n",
       "      <th>c</th>\n",
       "      <th>d</th>\n",
       "      <th>e</th>\n",
       "    </tr>\n",
       "  </thead>\n",
       "  <tbody>\n",
       "    <tr>\n",
       "      <th>0</th>\n",
       "      <td>3</td>\n",
       "      <td>9</td>\n",
       "      <td>2</td>\n",
       "      <td>9</td>\n",
       "      <td>2</td>\n",
       "    </tr>\n",
       "    <tr>\n",
       "      <th>0</th>\n",
       "      <td>12</td>\n",
       "      <td>17</td>\n",
       "      <td>15</td>\n",
       "      <td>16</td>\n",
       "      <td>11</td>\n",
       "    </tr>\n",
       "    <tr>\n",
       "      <th>1</th>\n",
       "      <td>3</td>\n",
       "      <td>2</td>\n",
       "      <td>3</td>\n",
       "      <td>8</td>\n",
       "      <td>9</td>\n",
       "    </tr>\n",
       "    <tr>\n",
       "      <th>1</th>\n",
       "      <td>17</td>\n",
       "      <td>11</td>\n",
       "      <td>12</td>\n",
       "      <td>19</td>\n",
       "      <td>10</td>\n",
       "    </tr>\n",
       "    <tr>\n",
       "      <th>2</th>\n",
       "      <td>3</td>\n",
       "      <td>6</td>\n",
       "      <td>8</td>\n",
       "      <td>8</td>\n",
       "      <td>2</td>\n",
       "    </tr>\n",
       "    <tr>\n",
       "      <th>2</th>\n",
       "      <td>11</td>\n",
       "      <td>10</td>\n",
       "      <td>15</td>\n",
       "      <td>17</td>\n",
       "      <td>11</td>\n",
       "    </tr>\n",
       "    <tr>\n",
       "      <th>3</th>\n",
       "      <td>8</td>\n",
       "      <td>0</td>\n",
       "      <td>5</td>\n",
       "      <td>1</td>\n",
       "      <td>6</td>\n",
       "    </tr>\n",
       "    <tr>\n",
       "      <th>3</th>\n",
       "      <td>17</td>\n",
       "      <td>17</td>\n",
       "      <td>16</td>\n",
       "      <td>17</td>\n",
       "      <td>12</td>\n",
       "    </tr>\n",
       "    <tr>\n",
       "      <th>4</th>\n",
       "      <td>4</td>\n",
       "      <td>5</td>\n",
       "      <td>9</td>\n",
       "      <td>5</td>\n",
       "      <td>7</td>\n",
       "    </tr>\n",
       "    <tr>\n",
       "      <th>4</th>\n",
       "      <td>10</td>\n",
       "      <td>19</td>\n",
       "      <td>16</td>\n",
       "      <td>13</td>\n",
       "      <td>19</td>\n",
       "    </tr>\n",
       "  </tbody>\n",
       "</table>\n",
       "</div>"
      ],
      "text/plain": [
       "    a   b   c   d   e\n",
       "0   3   9   2   9   2\n",
       "0  12  17  15  16  11\n",
       "1   3   2   3   8   9\n",
       "1  17  11  12  19  10\n",
       "2   3   6   8   8   2\n",
       "2  11  10  15  17  11\n",
       "3   8   0   5   1   6\n",
       "3  17  17  16  17  12\n",
       "4   4   5   9   5   7\n",
       "4  10  19  16  13  19"
      ]
     },
     "execution_count": 228,
     "metadata": {},
     "output_type": "execute_result"
    }
   ],
   "source": [
    "pd.concat([df2,df1]).sort_index()"
   ]
  },
  {
   "cell_type": "code",
   "execution_count": 225,
   "metadata": {
    "collapsed": false
   },
   "outputs": [
    {
     "data": {
      "text/html": [
       "<div>\n",
       "<table border=\"1\" class=\"dataframe\">\n",
       "  <thead>\n",
       "    <tr style=\"text-align: right;\">\n",
       "      <th></th>\n",
       "      <th>a</th>\n",
       "      <th>b</th>\n",
       "      <th>c</th>\n",
       "      <th>d</th>\n",
       "      <th>e</th>\n",
       "    </tr>\n",
       "  </thead>\n",
       "  <tbody>\n",
       "    <tr>\n",
       "      <th>0</th>\n",
       "      <td>7.5</td>\n",
       "      <td>13.0</td>\n",
       "      <td>8.5</td>\n",
       "      <td>12.5</td>\n",
       "      <td>6.5</td>\n",
       "    </tr>\n",
       "    <tr>\n",
       "      <th>1</th>\n",
       "      <td>10.0</td>\n",
       "      <td>6.5</td>\n",
       "      <td>7.5</td>\n",
       "      <td>13.5</td>\n",
       "      <td>9.5</td>\n",
       "    </tr>\n",
       "    <tr>\n",
       "      <th>2</th>\n",
       "      <td>7.0</td>\n",
       "      <td>8.0</td>\n",
       "      <td>11.5</td>\n",
       "      <td>12.5</td>\n",
       "      <td>6.5</td>\n",
       "    </tr>\n",
       "    <tr>\n",
       "      <th>3</th>\n",
       "      <td>12.5</td>\n",
       "      <td>8.5</td>\n",
       "      <td>10.5</td>\n",
       "      <td>9.0</td>\n",
       "      <td>9.0</td>\n",
       "    </tr>\n",
       "    <tr>\n",
       "      <th>4</th>\n",
       "      <td>7.0</td>\n",
       "      <td>12.0</td>\n",
       "      <td>12.5</td>\n",
       "      <td>9.0</td>\n",
       "      <td>13.0</td>\n",
       "    </tr>\n",
       "  </tbody>\n",
       "</table>\n",
       "</div>"
      ],
      "text/plain": [
       "      a     b     c     d     e\n",
       "0   7.5  13.0   8.5  12.5   6.5\n",
       "1  10.0   6.5   7.5  13.5   9.5\n",
       "2   7.0   8.0  11.5  12.5   6.5\n",
       "3  12.5   8.5  10.5   9.0   9.0\n",
       "4   7.0  12.0  12.5   9.0  13.0"
      ]
     },
     "execution_count": 225,
     "metadata": {},
     "output_type": "execute_result"
    }
   ],
   "source": [
    "pd.concat([df2,df1]).sort_index().groupby(level=0).agg('mean')"
   ]
  }
 ],
 "metadata": {
  "kernelspec": {
   "display_name": "Python 3",
   "language": "python",
   "name": "python3"
  },
  "language_info": {
   "codemirror_mode": {
    "name": "ipython",
    "version": 3
   },
   "file_extension": ".py",
   "mimetype": "text/x-python",
   "name": "python",
   "nbconvert_exporter": "python",
   "pygments_lexer": "ipython3",
   "version": "3.5.2"
  }
 },
 "nbformat": 4,
 "nbformat_minor": 2
}
