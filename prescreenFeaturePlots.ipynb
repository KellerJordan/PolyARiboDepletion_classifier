{
 "cells": [
  {
   "cell_type": "code",
   "execution_count": 150,
   "metadata": {
    "collapsed": true,
    "deletable": true,
    "editable": true
   },
   "outputs": [],
   "source": [
    "import os, fnmatch\n",
    "import matplotlib.pyplot as plt\n",
    "import csv\n",
    "import numpy as np\n",
    "import pandas as pd"
   ]
  },
  {
   "cell_type": "code",
   "execution_count": 151,
   "metadata": {
    "collapsed": true,
    "deletable": true,
    "editable": true
   },
   "outputs": [],
   "source": [
    "import sys\n",
    "import json\n",
    "import glob\n"
   ]
  },
  {
   "cell_type": "code",
   "execution_count": 152,
   "metadata": {
    "collapsed": true,
    "deletable": true,
    "editable": true
   },
   "outputs": [],
   "source": [
    "\n",
    "BASE_PATH = '/data/archive/downstream/'\n",
    "SOURCES = ['TARGET', 'TCGA', 'THR', 'TH']\n",
    "def donor_to_samples(donor_id):\n",
    "    sample_paths = glob.glob(BASE_PATH + donor_id + '*')\n",
    "    sample_ids = [p[p.rfind('/')+1:] for p in sample_paths]\n",
    "    return sample_ids"
   ]
  },
  {
   "cell_type": "code",
   "execution_count": 153,
   "metadata": {
    "collapsed": false,
    "deletable": true,
    "editable": true
   },
   "outputs": [],
   "source": [
    "targetIds = donor_to_samples('TARGET')\n",
    "thoIds = donor_to_samples('TH0')\n",
    "thrIds = donor_to_samples('THR')\n",
    "tgcaIds = donor_to_samples('TCGA')\n"
   ]
  },
  {
   "cell_type": "code",
   "execution_count": 154,
   "metadata": {
    "collapsed": false,
    "deletable": true,
    "editable": true
   },
   "outputs": [],
   "source": [
    "listOfPathsToUMEND = sorted(glob.glob(\"/data/archive/downstream/\" + 'TH0*/secondary/ucsc_cgl*/RSEM/Hugo' + '/rsem_genes.hugo.results'))\n",
    "listOfPathsToDisease = sorted(glob.glob('/data/archive/downstream/TH0*/tertiary/treehouse-[8]*[!_compv5]/diagnosed_disease.txt'))"
   ]
  },
  {
   "cell_type": "code",
   "execution_count": 170,
   "metadata": {
    "collapsed": true
   },
   "outputs": [],
   "source": [
    "clinical = pd.read_csv(\"/data/archive/compendium/v5/clinical.tsv\",sep='\\t')\n",
    "\n",
    "ribodDiagnosis = pd.read_csv(\"riboDepleted_samples_that_passedQC_and_have_known_diagnosis.tsv\", sep='\\t')\n",
    "\n",
    "ribodDiagnosis=ribodDiagnosis.rename(columns={'Treehouse SAMPLE identifier':'th_sampleid','Diagnosis/Disease':'disease'})\n",
    "\n",
    "methods = pd.read_csv(\"TranscriptMethod_THPEDv1.csv\")\n",
    "\n",
    "methods = methods.rename(columns={'Treehouse SAMPLE identifier':'th_sampleid'})\n",
    "\n",
    "clinicalIdTissue = clinical[['th_sampleid','anat_sample','disease']] "
   ]
  },
  {
   "cell_type": "code",
   "execution_count": 365,
   "metadata": {
    "collapsed": false
   },
   "outputs": [],
   "source": [
    "df = pd.merge(clinicalIdTissue, ribodDiagnosis, how='outer', on='th_sampleid')\n",
    "df = pd.merge(df,methods,how='left',on='th_sampleid')\n",
    "df.disease_y.fillna(df.disease_x, inplace=True)\n",
    "df=df.rename(columns={'disease_y':'disease','anat_sample':'tissue'})\n",
    "\n",
    "del df['disease_x']\n",
    "\n",
    "df.tissue.fillna('NA',inplace=True)\n",
    "\n",
    "ribodGlioblastomaSet = df.loc[df['TR_method']=='RiboMinus'].loc[df['disease']=='glioblastoma multiforme']\n",
    "\n",
    "polyaGliomaBrainSet = df.loc[df['disease']==\"glioma\"].loc[df['tissue']==\"brain\"]\n",
    "\n",
    "compendium = pd.read_hdf(\"/data/archive/compendium/v5/v5_hugo_log2tpm.11340x58581.2018-02-03.hd5\")"
   ]
  },
  {
   "cell_type": "code",
   "execution_count": 363,
   "metadata": {
    "collapsed": false
   },
   "outputs": [],
   "source": [
    "polyaGliomaBrainExpression = compendium[list(polyaGliomaBrainSet['th_sampleid'])]\n"
   ]
  },
  {
   "cell_type": "code",
   "execution_count": 416,
   "metadata": {
    "collapsed": false
   },
   "outputs": [],
   "source": [
    "basepath=\"/data/archive/downstream/\"\n",
    "postidpath=\"/secondary/ucsc_cgl-rnaseq-cgl-pipeline-0.0.0-0000000/RSEM/Hugo/\"\n",
    "filename=\"rsem_genes.hugo.results\"\n",
    "hugoLogTpmPlusOneFilePathList = glob.glob(basepath + \"THR21*\" + postidpath + filename)\n",
    "\n",
    "riboGliomablastomaExpression = pd.DataFrame()\n",
    "curDf = pd.read_csv(hugoLogTpmPlusOneFilePathList[0],sep='\\t')\n",
    "riboGliomablastomaExpression['gene']=curDf['gene_name']\n",
    "\n",
    "for filepath in hugoLogTpmPlusOneFilePathList:\n",
    "    curDf = pd.read_csv(filepath,sep='\\t')\n",
    "    riboGliomablastomaExpression[filepath[25:24+15]]=curDf['TPM']\n"
   ]
  },
  {
   "cell_type": "code",
   "execution_count": 445,
   "metadata": {
    "collapsed": false
   },
   "outputs": [
    {
     "data": {
      "text/html": [
       "<div>\n",
       "<table border=\"1\" class=\"dataframe\">\n",
       "  <thead>\n",
       "    <tr style=\"text-align: right;\">\n",
       "      <th></th>\n",
       "      <th>gene</th>\n",
       "      <th>THR21_0520_S01</th>\n",
       "      <th>THR21_0521_S01</th>\n",
       "      <th>THR21_0522_S01</th>\n",
       "      <th>THR21_0523_S01</th>\n",
       "      <th>THR21_0524_S01</th>\n",
       "      <th>THR21_0525_S01</th>\n",
       "      <th>THR21_0526_S01</th>\n",
       "      <th>THR21_0527_S01</th>\n",
       "      <th>THR21_0528_S01</th>\n",
       "      <th>...</th>\n",
       "      <th>THR21_0552_S01</th>\n",
       "      <th>THR21_0553_S01</th>\n",
       "      <th>THR21_0554_S01</th>\n",
       "      <th>THR21_0554_S02</th>\n",
       "      <th>THR21_0555_S01</th>\n",
       "      <th>THR21_0556_S01</th>\n",
       "      <th>THR21_0557_S01</th>\n",
       "      <th>THR21_0558_S01</th>\n",
       "      <th>THR21_0559_S01</th>\n",
       "      <th>THR21_0560_S01</th>\n",
       "    </tr>\n",
       "  </thead>\n",
       "  <tbody>\n",
       "    <tr>\n",
       "      <th>0</th>\n",
       "      <td>TSPAN6</td>\n",
       "      <td>4.50</td>\n",
       "      <td>6.97</td>\n",
       "      <td>6.13</td>\n",
       "      <td>4.10</td>\n",
       "      <td>6.72</td>\n",
       "      <td>6.09</td>\n",
       "      <td>7.88</td>\n",
       "      <td>6.49</td>\n",
       "      <td>4.62</td>\n",
       "      <td>...</td>\n",
       "      <td>3.58</td>\n",
       "      <td>1.16</td>\n",
       "      <td>4.74</td>\n",
       "      <td>13.02</td>\n",
       "      <td>6.21</td>\n",
       "      <td>4.61</td>\n",
       "      <td>4.82</td>\n",
       "      <td>2.67</td>\n",
       "      <td>35.65</td>\n",
       "      <td>28.19</td>\n",
       "    </tr>\n",
       "    <tr>\n",
       "      <th>1</th>\n",
       "      <td>TNMD</td>\n",
       "      <td>0.08</td>\n",
       "      <td>0.10</td>\n",
       "      <td>0.03</td>\n",
       "      <td>0.06</td>\n",
       "      <td>0.14</td>\n",
       "      <td>0.27</td>\n",
       "      <td>0.03</td>\n",
       "      <td>0.03</td>\n",
       "      <td>0.01</td>\n",
       "      <td>...</td>\n",
       "      <td>0.02</td>\n",
       "      <td>0.00</td>\n",
       "      <td>0.02</td>\n",
       "      <td>0.06</td>\n",
       "      <td>0.02</td>\n",
       "      <td>0.02</td>\n",
       "      <td>0.04</td>\n",
       "      <td>0.00</td>\n",
       "      <td>0.16</td>\n",
       "      <td>0.01</td>\n",
       "    </tr>\n",
       "    <tr>\n",
       "      <th>2</th>\n",
       "      <td>DPM1</td>\n",
       "      <td>5.13</td>\n",
       "      <td>5.66</td>\n",
       "      <td>3.21</td>\n",
       "      <td>4.74</td>\n",
       "      <td>3.34</td>\n",
       "      <td>3.09</td>\n",
       "      <td>3.97</td>\n",
       "      <td>3.89</td>\n",
       "      <td>3.32</td>\n",
       "      <td>...</td>\n",
       "      <td>4.71</td>\n",
       "      <td>3.61</td>\n",
       "      <td>3.79</td>\n",
       "      <td>9.74</td>\n",
       "      <td>3.40</td>\n",
       "      <td>3.23</td>\n",
       "      <td>3.16</td>\n",
       "      <td>2.88</td>\n",
       "      <td>66.10</td>\n",
       "      <td>37.59</td>\n",
       "    </tr>\n",
       "    <tr>\n",
       "      <th>3</th>\n",
       "      <td>SCYL3</td>\n",
       "      <td>1.20</td>\n",
       "      <td>2.76</td>\n",
       "      <td>1.20</td>\n",
       "      <td>1.95</td>\n",
       "      <td>1.23</td>\n",
       "      <td>0.90</td>\n",
       "      <td>1.32</td>\n",
       "      <td>1.15</td>\n",
       "      <td>0.66</td>\n",
       "      <td>...</td>\n",
       "      <td>0.79</td>\n",
       "      <td>0.61</td>\n",
       "      <td>0.80</td>\n",
       "      <td>1.46</td>\n",
       "      <td>1.07</td>\n",
       "      <td>1.41</td>\n",
       "      <td>0.94</td>\n",
       "      <td>0.73</td>\n",
       "      <td>9.18</td>\n",
       "      <td>3.92</td>\n",
       "    </tr>\n",
       "    <tr>\n",
       "      <th>4</th>\n",
       "      <td>C1orf112</td>\n",
       "      <td>1.97</td>\n",
       "      <td>2.30</td>\n",
       "      <td>1.04</td>\n",
       "      <td>2.70</td>\n",
       "      <td>0.97</td>\n",
       "      <td>1.76</td>\n",
       "      <td>2.28</td>\n",
       "      <td>1.26</td>\n",
       "      <td>0.81</td>\n",
       "      <td>...</td>\n",
       "      <td>1.93</td>\n",
       "      <td>0.81</td>\n",
       "      <td>1.01</td>\n",
       "      <td>2.49</td>\n",
       "      <td>1.18</td>\n",
       "      <td>1.88</td>\n",
       "      <td>1.34</td>\n",
       "      <td>0.65</td>\n",
       "      <td>9.78</td>\n",
       "      <td>14.80</td>\n",
       "    </tr>\n",
       "  </tbody>\n",
       "</table>\n",
       "<p>5 rows × 42 columns</p>\n",
       "</div>"
      ],
      "text/plain": [
       "       gene  THR21_0520_S01  THR21_0521_S01  THR21_0522_S01  THR21_0523_S01  \\\n",
       "0    TSPAN6            4.50            6.97            6.13            4.10   \n",
       "1      TNMD            0.08            0.10            0.03            0.06   \n",
       "2      DPM1            5.13            5.66            3.21            4.74   \n",
       "3     SCYL3            1.20            2.76            1.20            1.95   \n",
       "4  C1orf112            1.97            2.30            1.04            2.70   \n",
       "\n",
       "   THR21_0524_S01  THR21_0525_S01  THR21_0526_S01  THR21_0527_S01  \\\n",
       "0            6.72            6.09            7.88            6.49   \n",
       "1            0.14            0.27            0.03            0.03   \n",
       "2            3.34            3.09            3.97            3.89   \n",
       "3            1.23            0.90            1.32            1.15   \n",
       "4            0.97            1.76            2.28            1.26   \n",
       "\n",
       "   THR21_0528_S01       ...        THR21_0552_S01  THR21_0553_S01  \\\n",
       "0            4.62       ...                  3.58            1.16   \n",
       "1            0.01       ...                  0.02            0.00   \n",
       "2            3.32       ...                  4.71            3.61   \n",
       "3            0.66       ...                  0.79            0.61   \n",
       "4            0.81       ...                  1.93            0.81   \n",
       "\n",
       "   THR21_0554_S01  THR21_0554_S02  THR21_0555_S01  THR21_0556_S01  \\\n",
       "0            4.74           13.02            6.21            4.61   \n",
       "1            0.02            0.06            0.02            0.02   \n",
       "2            3.79            9.74            3.40            3.23   \n",
       "3            0.80            1.46            1.07            1.41   \n",
       "4            1.01            2.49            1.18            1.88   \n",
       "\n",
       "   THR21_0557_S01  THR21_0558_S01  THR21_0559_S01  THR21_0560_S01  \n",
       "0            4.82            2.67           35.65           28.19  \n",
       "1            0.04            0.00            0.16            0.01  \n",
       "2            3.16            2.88           66.10           37.59  \n",
       "3            0.94            0.73            9.18            3.92  \n",
       "4            1.34            0.65            9.78           14.80  \n",
       "\n",
       "[5 rows x 42 columns]"
      ]
     },
     "execution_count": 445,
     "metadata": {},
     "output_type": "execute_result"
    }
   ],
   "source": [
    "thid = ['gene']\n",
    "thid.extend(list(ribodGlioblastomaSet['th_sampleid']))\n",
    "riboGliomablastomaExpression[thid].head()"
   ]
  },
  {
   "cell_type": "code",
   "execution_count": 157,
   "metadata": {
    "collapsed": false,
    "deletable": true,
    "editable": true,
    "scrolled": true
   },
   "outputs": [
    {
     "ename": "KeyboardInterrupt",
     "evalue": "",
     "output_type": "error",
     "traceback": [
      "\u001b[0;31m---------------------------------------------------------------------------\u001b[0m",
      "\u001b[0;31mKeyboardInterrupt\u001b[0m                         Traceback (most recent call last)",
      "\u001b[0;32m<ipython-input-157-ae01883c1416>\u001b[0m in \u001b[0;36m<module>\u001b[0;34m()\u001b[0m\n\u001b[1;32m      2\u001b[0m \u001b[0;32mfor\u001b[0m \u001b[0mfilepath\u001b[0m \u001b[0;32min\u001b[0m \u001b[0mlistOfPathsToUMEND\u001b[0m \u001b[0;34m:\u001b[0m\u001b[0;34m\u001b[0m\u001b[0m\n\u001b[1;32m      3\u001b[0m     \u001b[0mcurrentSampleID\u001b[0m \u001b[0;34m=\u001b[0m \u001b[0mfilepath\u001b[0m\u001b[0;34m[\u001b[0m\u001b[0mfilepath\u001b[0m\u001b[0;34m.\u001b[0m\u001b[0mfind\u001b[0m\u001b[0;34m(\u001b[0m\u001b[0;34m'TH0'\u001b[0m\u001b[0;34m)\u001b[0m\u001b[0;34m:\u001b[0m\u001b[0mfilepath\u001b[0m\u001b[0;34m.\u001b[0m\u001b[0mfind\u001b[0m\u001b[0;34m(\u001b[0m\u001b[0;34m'TH0'\u001b[0m\u001b[0;34m)\u001b[0m\u001b[0;34m+\u001b[0m\u001b[0;36m13\u001b[0m\u001b[0;34m]\u001b[0m\u001b[0;34m\u001b[0m\u001b[0m\n\u001b[0;32m----> 4\u001b[0;31m     \u001b[0mumendTable\u001b[0m \u001b[0;34m=\u001b[0m \u001b[0mpd\u001b[0m\u001b[0;34m.\u001b[0m\u001b[0mread_csv\u001b[0m\u001b[0;34m(\u001b[0m\u001b[0mfilepath\u001b[0m\u001b[0;34m,\u001b[0m\u001b[0msep\u001b[0m\u001b[0;34m=\u001b[0m\u001b[0;34m'\\t'\u001b[0m\u001b[0;34m)\u001b[0m\u001b[0;34m\u001b[0m\u001b[0m\n\u001b[0m\u001b[1;32m      5\u001b[0m     \u001b[0;32mif\u001b[0m \u001b[0mcurrentSampleID\u001b[0m \u001b[0;32min\u001b[0m \u001b[0mlistOfPathsToDisease\u001b[0m\u001b[0;34m:\u001b[0m\u001b[0;34m\u001b[0m\u001b[0m\n\u001b[1;32m      6\u001b[0m         \u001b[0mindexOfPath\u001b[0m \u001b[0;34m=\u001b[0m \u001b[0mindex_containing_substring\u001b[0m\u001b[0;34m(\u001b[0m\u001b[0mlistOfPathsToDisease\u001b[0m\u001b[0;34m,\u001b[0m\u001b[0mcurrentSampleID\u001b[0m\u001b[0;34m)\u001b[0m\u001b[0;34m\u001b[0m\u001b[0m\n",
      "\u001b[0;32m/opt/conda/lib/python3.5/site-packages/pandas/io/parsers.py\u001b[0m in \u001b[0;36mparser_f\u001b[0;34m(filepath_or_buffer, sep, delimiter, header, names, index_col, usecols, squeeze, prefix, mangle_dupe_cols, dtype, engine, converters, true_values, false_values, skipinitialspace, skiprows, nrows, na_values, keep_default_na, na_filter, verbose, skip_blank_lines, parse_dates, infer_datetime_format, keep_date_col, date_parser, dayfirst, iterator, chunksize, compression, thousands, decimal, lineterminator, quotechar, quoting, escapechar, comment, encoding, dialect, tupleize_cols, error_bad_lines, warn_bad_lines, skipfooter, skip_footer, doublequote, delim_whitespace, as_recarray, compact_ints, use_unsigned, low_memory, buffer_lines, memory_map, float_precision)\u001b[0m\n\u001b[1;32m    644\u001b[0m                     skip_blank_lines=skip_blank_lines)\n\u001b[1;32m    645\u001b[0m \u001b[0;34m\u001b[0m\u001b[0m\n\u001b[0;32m--> 646\u001b[0;31m         \u001b[0;32mreturn\u001b[0m \u001b[0m_read\u001b[0m\u001b[0;34m(\u001b[0m\u001b[0mfilepath_or_buffer\u001b[0m\u001b[0;34m,\u001b[0m \u001b[0mkwds\u001b[0m\u001b[0;34m)\u001b[0m\u001b[0;34m\u001b[0m\u001b[0m\n\u001b[0m\u001b[1;32m    647\u001b[0m \u001b[0;34m\u001b[0m\u001b[0m\n\u001b[1;32m    648\u001b[0m     \u001b[0mparser_f\u001b[0m\u001b[0;34m.\u001b[0m\u001b[0m__name__\u001b[0m \u001b[0;34m=\u001b[0m \u001b[0mname\u001b[0m\u001b[0;34m\u001b[0m\u001b[0m\n",
      "\u001b[0;32m/opt/conda/lib/python3.5/site-packages/pandas/io/parsers.py\u001b[0m in \u001b[0;36m_read\u001b[0;34m(filepath_or_buffer, kwds)\u001b[0m\n\u001b[1;32m    399\u001b[0m         \u001b[0;32mreturn\u001b[0m \u001b[0mparser\u001b[0m\u001b[0;34m\u001b[0m\u001b[0m\n\u001b[1;32m    400\u001b[0m \u001b[0;34m\u001b[0m\u001b[0m\n\u001b[0;32m--> 401\u001b[0;31m     \u001b[0mdata\u001b[0m \u001b[0;34m=\u001b[0m \u001b[0mparser\u001b[0m\u001b[0;34m.\u001b[0m\u001b[0mread\u001b[0m\u001b[0;34m(\u001b[0m\u001b[0;34m)\u001b[0m\u001b[0;34m\u001b[0m\u001b[0m\n\u001b[0m\u001b[1;32m    402\u001b[0m     \u001b[0mparser\u001b[0m\u001b[0;34m.\u001b[0m\u001b[0mclose\u001b[0m\u001b[0;34m(\u001b[0m\u001b[0;34m)\u001b[0m\u001b[0;34m\u001b[0m\u001b[0m\n\u001b[1;32m    403\u001b[0m     \u001b[0;32mreturn\u001b[0m \u001b[0mdata\u001b[0m\u001b[0;34m\u001b[0m\u001b[0m\n",
      "\u001b[0;32m/opt/conda/lib/python3.5/site-packages/pandas/io/parsers.py\u001b[0m in \u001b[0;36mread\u001b[0;34m(self, nrows)\u001b[0m\n\u001b[1;32m    937\u001b[0m                 \u001b[0;32mraise\u001b[0m \u001b[0mValueError\u001b[0m\u001b[0;34m(\u001b[0m\u001b[0;34m'skipfooter not supported for iteration'\u001b[0m\u001b[0;34m)\u001b[0m\u001b[0;34m\u001b[0m\u001b[0m\n\u001b[1;32m    938\u001b[0m \u001b[0;34m\u001b[0m\u001b[0m\n\u001b[0;32m--> 939\u001b[0;31m         \u001b[0mret\u001b[0m \u001b[0;34m=\u001b[0m \u001b[0mself\u001b[0m\u001b[0;34m.\u001b[0m\u001b[0m_engine\u001b[0m\u001b[0;34m.\u001b[0m\u001b[0mread\u001b[0m\u001b[0;34m(\u001b[0m\u001b[0mnrows\u001b[0m\u001b[0;34m)\u001b[0m\u001b[0;34m\u001b[0m\u001b[0m\n\u001b[0m\u001b[1;32m    940\u001b[0m \u001b[0;34m\u001b[0m\u001b[0m\n\u001b[1;32m    941\u001b[0m         \u001b[0;32mif\u001b[0m \u001b[0mself\u001b[0m\u001b[0;34m.\u001b[0m\u001b[0moptions\u001b[0m\u001b[0;34m.\u001b[0m\u001b[0mget\u001b[0m\u001b[0;34m(\u001b[0m\u001b[0;34m'as_recarray'\u001b[0m\u001b[0;34m)\u001b[0m\u001b[0;34m:\u001b[0m\u001b[0;34m\u001b[0m\u001b[0m\n",
      "\u001b[0;32m/opt/conda/lib/python3.5/site-packages/pandas/io/parsers.py\u001b[0m in \u001b[0;36mread\u001b[0;34m(self, nrows)\u001b[0m\n\u001b[1;32m   1506\u001b[0m     \u001b[0;32mdef\u001b[0m \u001b[0mread\u001b[0m\u001b[0;34m(\u001b[0m\u001b[0mself\u001b[0m\u001b[0;34m,\u001b[0m \u001b[0mnrows\u001b[0m\u001b[0;34m=\u001b[0m\u001b[0;32mNone\u001b[0m\u001b[0;34m)\u001b[0m\u001b[0;34m:\u001b[0m\u001b[0;34m\u001b[0m\u001b[0m\n\u001b[1;32m   1507\u001b[0m         \u001b[0;32mtry\u001b[0m\u001b[0;34m:\u001b[0m\u001b[0;34m\u001b[0m\u001b[0m\n\u001b[0;32m-> 1508\u001b[0;31m             \u001b[0mdata\u001b[0m \u001b[0;34m=\u001b[0m \u001b[0mself\u001b[0m\u001b[0;34m.\u001b[0m\u001b[0m_reader\u001b[0m\u001b[0;34m.\u001b[0m\u001b[0mread\u001b[0m\u001b[0;34m(\u001b[0m\u001b[0mnrows\u001b[0m\u001b[0;34m)\u001b[0m\u001b[0;34m\u001b[0m\u001b[0m\n\u001b[0m\u001b[1;32m   1509\u001b[0m         \u001b[0;32mexcept\u001b[0m \u001b[0mStopIteration\u001b[0m\u001b[0;34m:\u001b[0m\u001b[0;34m\u001b[0m\u001b[0m\n\u001b[1;32m   1510\u001b[0m             \u001b[0;32mif\u001b[0m \u001b[0mself\u001b[0m\u001b[0;34m.\u001b[0m\u001b[0m_first_chunk\u001b[0m\u001b[0;34m:\u001b[0m\u001b[0;34m\u001b[0m\u001b[0m\n",
      "\u001b[0;32mpandas/parser.pyx\u001b[0m in \u001b[0;36mpandas.parser.TextReader.read (pandas/parser.c:10415)\u001b[0;34m()\u001b[0m\n",
      "\u001b[0;32mpandas/parser.pyx\u001b[0m in \u001b[0;36mpandas.parser.TextReader._read_low_memory (pandas/parser.c:10691)\u001b[0;34m()\u001b[0m\n",
      "\u001b[0;32mpandas/parser.pyx\u001b[0m in \u001b[0;36mpandas.parser.TextReader._read_rows (pandas/parser.c:11728)\u001b[0;34m()\u001b[0m\n",
      "\u001b[0;32mpandas/parser.pyx\u001b[0m in \u001b[0;36mpandas.parser.TextReader._convert_column_data (pandas/parser.c:13162)\u001b[0;34m()\u001b[0m\n",
      "\u001b[0;32mpandas/parser.pyx\u001b[0m in \u001b[0;36mpandas.parser.TextReader._convert_tokens (pandas/parser.c:14116)\u001b[0;34m()\u001b[0m\n",
      "\u001b[0;32mpandas/parser.pyx\u001b[0m in \u001b[0;36mpandas.parser.TextReader._convert_with_dtype (pandas/parser.c:14783)\u001b[0;34m()\u001b[0m\n",
      "\u001b[0;32m/opt/conda/lib/python3.5/site-packages/pandas/types/common.py\u001b[0m in \u001b[0;36mis_integer_dtype\u001b[0;34m(arr_or_dtype)\u001b[0m\n\u001b[1;32m    151\u001b[0m \u001b[0;34m\u001b[0m\u001b[0m\n\u001b[1;32m    152\u001b[0m \u001b[0;34m\u001b[0m\u001b[0m\n\u001b[0;32m--> 153\u001b[0;31m \u001b[0;32mdef\u001b[0m \u001b[0mis_integer_dtype\u001b[0m\u001b[0;34m(\u001b[0m\u001b[0marr_or_dtype\u001b[0m\u001b[0;34m)\u001b[0m\u001b[0;34m:\u001b[0m\u001b[0;34m\u001b[0m\u001b[0m\n\u001b[0m\u001b[1;32m    154\u001b[0m     \u001b[0mtipo\u001b[0m \u001b[0;34m=\u001b[0m \u001b[0m_get_dtype_type\u001b[0m\u001b[0;34m(\u001b[0m\u001b[0marr_or_dtype\u001b[0m\u001b[0;34m)\u001b[0m\u001b[0;34m\u001b[0m\u001b[0m\n\u001b[1;32m    155\u001b[0m     return (issubclass(tipo, np.integer) and\n",
      "\u001b[0;31mKeyboardInterrupt\u001b[0m: "
     ]
    }
   ],
   "source": [
    "\n",
    "\n",
    "for filepath in listOfPathsToUMEND :\n",
    "    currentSampleID = filepath[filepath.find('TH0'):filepath.find('TH0')+13]\n",
    "    umendTable = pd.read_csv(filepath,sep='\\t')\n",
    "    if currentSampleID in listOfPathsToDisease:\n",
    "        indexOfPath = index_containing_substring(listOfPathsToDisease,currentSampleID)\n",
    "        f = open(listOfPathsToDisease[indexOfPath],'r')\n",
    "        disease = f.read()\n",
    "        f.close()\n",
    "        umendTable['disease'] = np.repeat(disease,len(umendTable))\n",
    "        totalUmendDisease = pd.concat([umendTable,totalUmendDisease])"
   ]
  }
 ],
 "metadata": {
  "kernelspec": {
   "display_name": "Python 3",
   "language": "python",
   "name": "python3"
  },
  "language_info": {
   "codemirror_mode": {
    "name": "ipython",
    "version": 3
   },
   "file_extension": ".py",
   "mimetype": "text/x-python",
   "name": "python",
   "nbconvert_exporter": "python",
   "pygments_lexer": "ipython3",
   "version": "3.5.2"
  }
 },
 "nbformat": 4,
 "nbformat_minor": 2
}
