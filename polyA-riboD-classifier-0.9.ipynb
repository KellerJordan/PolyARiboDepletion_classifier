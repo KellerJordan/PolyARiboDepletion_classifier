{
 "cells": [
  {
   "cell_type": "markdown",
   "metadata": {},
   "source": [
    "### These are the parameters of the classifier I have made\n",
    "- pathToInput: file name and location (if neccessary) of the sample to be classified\n",
    "    - should have sampleID first row, log2TPM+1 values in rows after first\n",
    "- if there is a HUGO gene id column \n",
    "    - noGene = False\n",
    "- otherwise:\n",
    "    - noGene = True"
   ]
  },
  {
   "cell_type": "code",
   "execution_count": 38,
   "metadata": {
    "collapsed": true
   },
   "outputs": [],
   "source": [
    "pathToInput = \"bigSampleOneColumn.tsv\"\n",
    "nameOfOutput = \"outputBigSampleOneColumn.txt\"\n",
    "noGene = True"
   ]
  },
  {
   "cell_type": "markdown",
   "metadata": {},
   "source": [
    "# Run script to classify input file!"
   ]
  },
  {
   "cell_type": "code",
   "execution_count": 39,
   "metadata": {
    "collapsed": false
   },
   "outputs": [],
   "source": [
    "#!/usr/bin/env python3\n",
    "# By Liam McKay (ltmckay) and Paola Angulo (pangulo)\n",
    "# polyAriboDclassifier-v2.py\n",
    "\n",
    "####################################################################################\n",
    "# MAIN PROGRAM\n",
    "# \n",
    "# Finds the method of preparation for the transcriptome from a sequence partner \n",
    "# in the Treehouse Initiative \n",
    "# Usage: $ python polyAriboDclassifier-v2.py [-nG [--noGene]] inputFile.tsv outputFile\n",
    "####################################################################################\n",
    "\n",
    "\n",
    "import matplotlib.pyplot as plt\n",
    "import csv\n",
    "import numpy as np\n",
    "import pandas as pd\n",
    "import sys\n",
    "\n",
    "def main(inCL=None):\n",
    "\t'''\n",
    "\tFind PolyA-Selection or Ribo-Depletion of a column of gene expression data by \n",
    "\tcomparing the 95th percentile, variance, and mean of a reference set to the new\n",
    "\tsample.\n",
    "\t-nG --noGene: use if your new sample does not have a \"Gene\" column, otherwise \n",
    "\t\t\t\t  the program assumes that there is a Gene column and removes it.\n",
    "\n",
    "\t'''\n",
    "\n",
    "\n",
    "\t# open file for output\n",
    "\tinputFile = pathToInput\n",
    "\toutputFile = nameOfOutput \n",
    "\toutputFileObject = open(outputFile, 'w')\n",
    "\tnewSampdf = pd.read_csv(inputFile, sep=\"\\t\")\n",
    "\n",
    "\t# ------------------------------------------------\n",
    "\t# classification calculations:\n",
    "\n",
    "\t# Load these in from values returned by avgGeneExpr_ExpressedGene.py\n",
    "\triboDp95 = 3.6812559832605625\n",
    "\triboDVar = 1.881014066540907\n",
    "\triboDMean = 0.7170628642305512\n",
    "\tpolyAp95 = 5.340720200699123\n",
    "\tpolyAVar = 3.649240487654772\n",
    "\tpolyAMean = 1.0491995456139986\n",
    "\n",
    "\t# Distance calculation of mean\n",
    "\tthreeValsRiboD = np.array([riboDp95,riboDVar,riboDMean])\n",
    "\n",
    "\t# figure out how to access mean value in dataframes of one value\n",
    "\tthreeValsPolyA = np.array([polyAp95,polyAVar,polyAMean])\n",
    "\n",
    "\t# new sample\n",
    "\tnewSampVarianceDf = newSampdf.var(axis=0)\n",
    "\tnewSampMeanDf = newSampdf.mean(axis=0)\n",
    "\tnewSampPctlDf = newSampdf.quantile(0.95)\n",
    "\n",
    "\t# drop gene column in the new sample's dataframe\n",
    "\tif(noGene == False):\n",
    "\t\tnewSampdf = newSampdf.drop(\"Gene\", axis=1)\n",
    "\n",
    "\n",
    "\tfor col in newSampdf.columns :\n",
    "\t\tthreeValsNewSamp = np.array([newSampPctlDf[col],newSampVarianceDf[col],newSampMeanDf[col]])\n",
    "\t\tdifferenceToRiboD = np.subtract(threeValsNewSamp, threeValsRiboD)\n",
    "\t\tdifferenceToPolyA = np.subtract(threeValsNewSamp, threeValsPolyA)\n",
    "\t\t\n",
    "\t\t# scoring method based on how close each p95, var, mean is to the respective reference method\n",
    "\t\triboDScore = 0\n",
    "\t\tpolyAScore = 0\n",
    "\t\tfor i in range(0,3):\n",
    "\t\t\tif (abs(differenceToPolyA[i])<abs(differenceToRiboD[i])):\n",
    "\t\t\t\tpolyAScore+=1\n",
    "\t\t\telse:\n",
    "\t\t\t\triboDScore+=1\n",
    "\t\tif(riboDScore>polyAScore):\n",
    "\t\t\toutputFileObject.write(\"{0}\\tRiboMinus\\n\".format(col))\n",
    "\t\telse:\n",
    "\t\t\toutputFileObject.write(\"{0}\\tPolyA\\n\".format(col))\n",
    "\n",
    "\t\n",
    "if __name__ == \"__main__\":\n",
    "\tmain() \n",
    "\n"
   ]
  },
  {
   "cell_type": "markdown",
   "metadata": {},
   "source": [
    "# Run to print results"
   ]
  },
  {
   "cell_type": "code",
   "execution_count": 44,
   "metadata": {
    "collapsed": false
   },
   "outputs": [
    {
     "name": "stdout",
     "output_type": "stream",
     "text": [
      "TH01_0051_S01\tPolyA\r\n"
     ]
    }
   ],
   "source": [
    "!head outputBigSampleOneColumn.txt"
   ]
  },
  {
   "cell_type": "code",
   "execution_count": null,
   "metadata": {
    "collapsed": true
   },
   "outputs": [],
   "source": []
  }
 ],
 "metadata": {
  "kernelspec": {
   "display_name": "Python 3",
   "language": "python",
   "name": "python3"
  },
  "language_info": {
   "codemirror_mode": {
    "name": "ipython",
    "version": 3
   },
   "file_extension": ".py",
   "mimetype": "text/x-python",
   "name": "python",
   "nbconvert_exporter": "python",
   "pygments_lexer": "ipython3",
   "version": "3.5.2"
  }
 },
 "nbformat": 4,
 "nbformat_minor": 2
}
